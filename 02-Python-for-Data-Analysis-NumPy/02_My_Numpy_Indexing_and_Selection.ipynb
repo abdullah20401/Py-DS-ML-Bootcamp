{
  "nbformat": 4,
  "nbformat_minor": 0,
  "metadata": {
    "colab": {
      "name": "02-My-Numpy Indexing and Selection.ipynb",
      "provenance": [],
      "authorship_tag": "ABX9TyNSJxLsGaGLBhPa3jMtiSuR"
    },
    "kernelspec": {
      "name": "python3",
      "display_name": "Python 3"
    },
    "language_info": {
      "name": "python"
    }
  },
  "cells": [
    {
      "cell_type": "code",
      "metadata": {
        "id": "hwG_JHCwVzIM"
      },
      "source": [
        ""
      ],
      "execution_count": null,
      "outputs": []
    }
  ]
}